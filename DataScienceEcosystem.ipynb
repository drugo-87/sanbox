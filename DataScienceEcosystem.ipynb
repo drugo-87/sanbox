{
 "cells": [
  {
   "cell_type": "markdown",
   "id": "78886774-d9a7-47f5-aee5-c865582e4ff9",
   "metadata": {},
   "source": [
    "# Final assignment notebook"
   ]
  },
  {
   "cell_type": "markdown",
   "id": "85d493e6-ee0b-4dff-a285-37c169a76b89",
   "metadata": {},
   "source": [
    "The introduction: \n",
    "In this notebook, Data Science Tools and Ecosystem are summarized."
   ]
  },
  {
   "cell_type": "markdown",
   "id": "7b0a93f7-7740-4a98-a622-325266691082",
   "metadata": {
    "tags": []
   },
   "source": [
    "Some of the popular languages that Data Scientists use are:\n",
    "1) python\n",
    "2) R\n",
    "3) julia"
   ]
  },
  {
   "cell_type": "markdown",
   "id": "1cf69fe9-5846-4b8c-a968-6a12101776a4",
   "metadata": {
    "tags": []
   },
   "source": [
    "Some of the commonly used libraries used by Data Scientists include:\n",
    "1) pandas\n",
    "2) scikit-learn\n",
    "3) pytorch"
   ]
  },
  {
   "cell_type": "markdown",
   "id": "58ed606e-20f1-4993-9972-5ea5f7c531ae",
   "metadata": {},
   "source": [
    "Some data science tools are listed in the following table:\n",
    "\n",
    "|data science tools |\n",
    "| --- |\n",
    "| jupyter |\n",
    "| github |\n",
    "| spyder |"
   ]
  },
  {
   "cell_type": "markdown",
   "id": "d642d283-2660-4b88-8a44-57dc920214b6",
   "metadata": {},
   "source": [
    "### Below are a few examples of evaluating arithmetic expressions in Python.\n",
    "- 3+4=7"
   ]
  },
  {
   "cell_type": "code",
   "execution_count": 13,
   "id": "0cf97a07-6dac-44f6-b4f3-2a8b33bd77ce",
   "metadata": {
    "tags": []
   },
   "outputs": [
    {
     "name": "stdout",
     "output_type": "stream",
     "text": [
      "This a simple arithmetic expression to mutiply then add integers.\n"
     ]
    },
    {
     "data": {
      "text/plain": [
       "17"
      ]
     },
     "execution_count": 13,
     "metadata": {},
     "output_type": "execute_result"
    }
   ],
   "source": [
    "# This a simple arithmetic expression to mutiply then add integers.\n",
    "print(\"This a simple arithmetic expression to mutiply then add integers.\")\n",
    "(3*4)+5"
   ]
  },
  {
   "cell_type": "code",
   "execution_count": 15,
   "id": "c0bcbb73-c09e-434f-ac48-e3878790ed15",
   "metadata": {
    "tags": []
   },
   "outputs": [
    {
     "name": "stdout",
     "output_type": "stream",
     "text": [
      "3.3333333333333335\n"
     ]
    }
   ],
   "source": [
    "# Convert minutes to hours:\n",
    "minutes = 200\n",
    "\n",
    "# This will convert 200 minutes to hours by diving by 60\n",
    "hours = minutes/ 60\n",
    "print(hours)"
   ]
  },
  {
   "cell_type": "markdown",
   "id": "ee87f0fd-d6a6-48ab-8583-89e00b829547",
   "metadata": {},
   "source": [
    "The list Objectives:\n",
    "- Create markdown cell with title of the notebook\n",
    "- Create a markdown cell for an introduction\n",
    "- Create a markdown cell to list data science languages\n",
    "- Create a markdown cell to list data science libraries\n",
    "- Create a markdown cell with a table of Data Science tools\n",
    "- ..."
   ]
  },
  {
   "cell_type": "markdown",
   "id": "c179558f-6bca-4a78-b033-b12e0e1e52d4",
   "metadata": {
    "tags": []
   },
   "source": [
    "## Authors\n",
    "Michele Bottazzi"
   ]
  }
 ],
 "metadata": {
  "kernelspec": {
   "display_name": "Python",
   "language": "python",
   "name": "conda-env-python-py"
  },
  "language_info": {
   "codemirror_mode": {
    "name": "ipython",
    "version": 3
   },
   "file_extension": ".py",
   "mimetype": "text/x-python",
   "name": "python",
   "nbconvert_exporter": "python",
   "pygments_lexer": "ipython3",
   "version": "3.7.12"
  }
 },
 "nbformat": 4,
 "nbformat_minor": 5
}
